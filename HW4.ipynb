{
 "cells": [
  {
   "cell_type": "markdown",
   "metadata": {},
   "source": [
    "# HW4"
   ]
  },
  {
   "cell_type": "code",
   "execution_count": null,
   "metadata": {},
   "outputs": [],
   "source": [
    "name = \"ABC\"              # Enter your name\n",
    "user = \"ABC\"              # Enter your BC username\n",
    "print(\"HW4 submission for {} ({})\".format(name,user))"
   ]
  },
  {
   "cell_type": "markdown",
   "metadata": {},
   "source": [
    "Please rename the file so that it includes your BC username. For example, I would change <b>HW4</b> to <b>HW4-reuterj</b> and upload <b>HW4-reuterj.ipynb</b> to Canvas."
   ]
  },
  {
   "cell_type": "markdown",
   "metadata": {},
   "source": [
    "### Please run the cell below every time you re-open this notebook"
   ]
  },
  {
   "cell_type": "code",
   "execution_count": null,
   "metadata": {},
   "outputs": [],
   "source": [
    "import math\n",
    "import random\n",
    "\n",
    "def test(got, expected, out_flag=1):\n",
    "    if got == expected:\n",
    "        prefix = ' OK '\n",
    "        if out_flag==1:\n",
    "            print(\"{} returned: {} expected: {}\".format(prefix, repr(got), repr(expected)))\n",
    "        return 1\n",
    "    else:\n",
    "        prefix = '  X '\n",
    "        if out_flag==1:\n",
    "            print(\"{} returned: {} expected: {}\".format(prefix, repr(got), repr(expected)))\n",
    "        return 0"
   ]
  },
  {
   "cell_type": "markdown",
   "metadata": {},
   "source": [
    "# Question 1"
   ]
  },
  {
   "cell_type": "markdown",
   "metadata": {},
   "source": [
    "<b>(2 points) Question 1.</b> Write a function <b>sphere(r)</b> that calculates the volume and surface area of a sphere, where 'r' is the radius. The function should return a list where element 0 of the list is the volume and element 1 is the surface area. You may assume that the user will enter a radius that is an int or float.\n",
    "\n",
    "$V = \\frac{4}{3} \\pi r^3$<br><br>\n",
    "$S = 4 \\pi r^2$\n",
    "\n",
    "Note: Because I asked you to 'import math' above, you have access to the constant 'math.pi'."
   ]
  },
  {
   "cell_type": "code",
   "execution_count": null,
   "metadata": {},
   "outputs": [],
   "source": [
    "# def sphere(r):\n",
    "    # your code goes here"
   ]
  },
  {
   "cell_type": "markdown",
   "metadata": {},
   "source": [
    "### Code to grade question 1"
   ]
  },
  {
   "cell_type": "code",
   "execution_count": null,
   "metadata": {},
   "outputs": [],
   "source": [
    "flag_q1  = 0\n",
    "score_q1 = 0\n",
    "\n",
    "while flag_q1 == 0:\n",
    "    \n",
    "    try:\n",
    "        test(['A'],['A'],0)\n",
    "    except:\n",
    "        print('Error: Load cell defining test()')\n",
    "        break\n",
    "\n",
    "    try:\n",
    "        sphere(2)\n",
    "    except:\n",
    "        print('Error: Please define sphere()')\n",
    "        break\n",
    "\n",
    "    temp     = sphere(5.5)\n",
    "    temp_s1  = str(temp[0])[0:8]\n",
    "    temp_s2  = str(temp[1])[0:8]\n",
    "\n",
    "    score_q1 = score_q1 + (temp_s1=='696.9099' and temp_s2=='380.1327')\n",
    "    score_q1 = score_q1 + (sphere(0)==[0.0,0.0])\n",
    "    \n",
    "    flag_q1 = 1\n",
    "\n",
    "print('\\nYour score on Question 1 is {:3.1f} out of 2.0.'.format(score_q1))"
   ]
  },
  {
   "cell_type": "markdown",
   "metadata": {},
   "source": [
    "# Question 2"
   ]
  },
  {
   "cell_type": "markdown",
   "metadata": {},
   "source": [
    "<b>(2 points)</b> You are considering buying a new car that costs \\$35,000. Use a nested for loop to calculate (and print) the monthly car payments associated with three different loan lengths (48, 60, 72 months) and three different annual percentage rates (5%, 6%, 7%). \n",
    "\n",
    "The output should be nine sentences of the form \"When the APR is {} and the number of months is {}, the monthly payment is {}.\", and where {} are used by the .format() function.\n",
    "\n",
    "Hint #1: You can create the lists yourself without using range().<br>\n",
    "Hint #2: You will need to use PV(Annuity) = (Per Period Payment) * (Annuity Factor). In this case, PV = $35,000<br>\n",
    "Hint #3: An APR of 6\\% implies a monthly rate of 0.06/12.<br>\n",
    "Hint #4: If you use {:6.2f} instead of {}, your monthly payment will only display two decimal places."
   ]
  },
  {
   "cell_type": "code",
   "execution_count": null,
   "metadata": {},
   "outputs": [],
   "source": [
    "# your code goes here"
   ]
  },
  {
   "cell_type": "markdown",
   "metadata": {},
   "source": [
    "# Question 3. Simulation"
   ]
  },
  {
   "cell_type": "markdown",
   "metadata": {},
   "source": [
    "<b>(4 points) 3a.</b> Write the function <b>threeinarow()</b> that takes no input and returns either a zero or a one (plus the list described under Hint #2).\n",
    "\n",
    "The function will randomly generate a list containing three elements, where each element is a number between 0 and 9, and where no number can appear more than once. (This is known as sampling without replacement.) For example, it might generate the list [8, 6, 7]. Sort the list from lowest to highest value. If the list consists of three consecutive integers, your function should return 1. Otherwise, it should return 0. For example, the list [6, 7, 8] should return 1 but the list [5, 7, 8] should return 0.\n",
    "\n",
    "Hint #1: To prevent duplicate integers, you should create a list of integers from 0 to 9 and then use random.sample() to choose 3 elements.\n",
    "\n",
    "Hint #2: To help us verify that your function works are intended, your function should return the integer 0/1 as its first output and it should return the <b>sorted</b> list of three integers as its second output. These should be two elements of a list.\n",
    "\n",
    "Once the function is working correctly, please write a for loop (or list comprehension) that runs your function 20 times and prints both outputs as a tuple, with one tuple per line."
   ]
  },
  {
   "cell_type": "code",
   "execution_count": null,
   "metadata": {},
   "outputs": [],
   "source": [
    "# def threeinarow():"
   ]
  },
  {
   "cell_type": "code",
   "execution_count": null,
   "metadata": {},
   "outputs": [],
   "source": [
    "# your for loop that calls your new function here"
   ]
  },
  {
   "cell_type": "markdown",
   "metadata": {},
   "source": [
    "<b>(2 points) Question 3b.</b> We would like to use the function above to determine the probability of drawing three integers from the list [0, 1, ..., 9] (without replacement) and ending up with three consecutive integers.\n",
    "\n",
    "Write a list comprehension statement that runs your function threeinarow() a total of 10000 times and that stores element 0 (and only element 0) of your function's output in the list 'count'. The list 'count' should consist only of 1s and 0s.\n",
    "\n",
    "Write three print statements. The first will print the fraction of times that the function threeinarow() returns 1 in the first 1000 elements. The second will print the fraction of times that the function threeinarow() returns 1 in the first 5000 elements. The third will print the fraction of times that the function threeinarow() returns 1 in all 10000 elements.\n",
    "\n",
    "For example, the print statement could return\n",
    "\n",
    "'The fraction of times that I observe 3-in-a-row in  1000 attempts is 0.0400.'"
   ]
  },
  {
   "cell_type": "code",
   "execution_count": null,
   "metadata": {},
   "outputs": [],
   "source": [
    "# your code here\n",
    "\n",
    "# count = []"
   ]
  }
 ],
 "metadata": {
  "kernelspec": {
   "display_name": "Python 3 (ipykernel)",
   "language": "python",
   "name": "python3"
  },
  "language_info": {
   "codemirror_mode": {
    "name": "ipython",
    "version": 3
   },
   "file_extension": ".py",
   "mimetype": "text/x-python",
   "name": "python",
   "nbconvert_exporter": "python",
   "pygments_lexer": "ipython3",
   "version": "3.9.12"
  }
 },
 "nbformat": 4,
 "nbformat_minor": 2
}
